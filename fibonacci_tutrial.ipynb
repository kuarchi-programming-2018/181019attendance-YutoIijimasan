{
 "cells": [
  {
   "cell_type": "markdown",
   "metadata": {},
   "source": [
    "# フィボナッチ数の課題をゆっくりやります\n",
    "$n$番目のフィボナッチ数を$F(n)$で表す。\n",
    "この時の関数$F(n)$を`def fib(n):`に続けて実装してみてください。\n",
    "ただし$$F(0) = 0, F(1) = 1, F(n) = F(n-1) + F(n-2) (n >= 2)$$とします。\n",
    "最初は自分の頭で考えてみて，5分～15分考えてわからなければ検索・相談しましょう。\n",
    "なるべく処理が早いほうがいい。\n",
    "n=2018のときいくつか。\n"
   ]
  },
  {
   "cell_type": "markdown",
   "metadata": {},
   "source": [
    "まず，$F(10)$までを手計算で計算して見ましょう。\n",
    "次に，それをプログラミングしてみましょう。"
   ]
  },
  {
   "cell_type": "code",
   "execution_count": 1,
   "metadata": {},
   "outputs": [
    {
     "name": "stdout",
     "output_type": "stream",
     "text": [
      "55\n"
     ]
    }
   ],
   "source": [
    "a_0 = 0\n",
    "a_1 = 1\n",
    "a_2 = a_1 + a_0\n",
    "a_3 = a_2 + a_1\n",
    "a,b=0,1\n",
    "# ここにa_10までを計算するように書く\n",
    "for i in range(10):\n",
    "    a, b = b, a + b\n",
    "a_10 = a\n",
    "print(a_10)"
   ]
  },
  {
   "cell_type": "markdown",
   "metadata": {},
   "source": [
    "繰り返し部分をforループで書いてみましょう。"
   ]
  },
  {
   "cell_type": "code",
   "execution_count": null,
   "metadata": {},
   "outputs": [],
   "source": [
    "# range関数がどのような出力なのか確認\n",
    "print(list(range(10)))\n",
    "print(list(range(2, 11)))"
   ]
  },
  {
   "cell_type": "code",
   "execution_count": 2,
   "metadata": {},
   "outputs": [
    {
     "name": "stdout",
     "output_type": "stream",
     "text": [
      "55\n"
     ]
    }
   ],
   "source": [
    "a_0 = 0\n",
    "a_1 = 1\n",
    "a=0\n",
    "b=1\n",
    "for i in range(10):\n",
    "    a, b = b, a + b\n",
    "a_10 = a\n",
    "print(a_10)"
   ]
  },
  {
   "cell_type": "markdown",
   "metadata": {},
   "source": [
    "nまで計算できるように編集してみましょう。\n"
   ]
  },
  {
   "cell_type": "code",
   "execution_count": null,
   "metadata": {},
   "outputs": [],
   "source": [
    "#ここにプログラムを書く\n",
    "a_0 = 0\n",
    "a_1 = 1\n",
    "a=0\n",
    "b=1\n",
    "n=int(input())\n",
    "#このforループの中を編集してやってみましょう。\n",
    "for i in range(n):\n",
    "    a, b = b, a + b\n",
    "a_n = a\n",
    "print(a_n)"
   ]
  },
  {
   "cell_type": "markdown",
   "metadata": {},
   "source": [
    "defを使って関数にしてみましょう。"
   ]
  },
  {
   "cell_type": "code",
   "execution_count": 2,
   "metadata": {},
   "outputs": [
    {
     "data": {
      "text/plain": [
       "55"
      ]
     },
     "execution_count": 2,
     "metadata": {},
     "output_type": "execute_result"
    }
   ],
   "source": [
    "def fib(u):\n",
    "    #ここにプログラムを書く\n",
    "    a,b=0,1\n",
    "    for i in range(u):\n",
    "        a, b = b, a + b\n",
    "    a_n = a\n",
    "    return a_n\n",
    "\n",
    "fib(10)"
   ]
  },
  {
   "cell_type": "markdown",
   "metadata": {},
   "source": [
    "リストを使ってやってみましょう"
   ]
  },
  {
   "cell_type": "code",
   "execution_count": 3,
   "metadata": {},
   "outputs": [
    {
     "name": "stdout",
     "output_type": "stream",
     "text": [
      "512\n"
     ]
    }
   ],
   "source": [
    "def fib_list(x):\n",
    "    result = [0, 1]\n",
    "    #ここにプログラムを書く\n",
    "    for i in range(x):\n",
    "        result[0]=result[1]\n",
    "        result[1]+=result[0]\n",
    "    return result\n",
    "\n",
    "print(fib_list(10)[0])"
   ]
  },
  {
   "cell_type": "markdown",
   "metadata": {},
   "source": [
    "$m$以下で最大のフィボナッチ数の$n$を求める関数を`argfib(m)`という名前でつくる\n",
    "m=2018のときいくつか。"
   ]
  },
  {
   "cell_type": "markdown",
   "metadata": {},
   "source": [
    "まずは先ほど作った関数を用いてwhileループを使ってやってみましょう。"
   ]
  },
  {
   "cell_type": "code",
   "execution_count": 5,
   "metadata": {},
   "outputs": [
    {
     "name": "stdout",
     "output_type": "stream",
     "text": [
      "11\n"
     ]
    }
   ],
   "source": [
    "m = 2018\n",
    "def fib_list(j):\n",
    "    result = [0, 1]\n",
    "    for i in range(j):\n",
    "        result[0]=result[1]\n",
    "        result[1]+=result[0]\n",
    "    return result\n",
    "def argfib(m):\n",
    "    i = 0\n",
    "    a_i = 0\n",
    "    while a_i<=m:\n",
    "        i+=1\n",
    "        a_i = fib_list(i)[0]\n",
    "    return i\n",
    "print(argfib(m)-1)"
   ]
  },
  {
   "cell_type": "markdown",
   "metadata": {},
   "source": [
    "他の書き方もやってみましょう。"
   ]
  },
  {
   "cell_type": "code",
   "execution_count": null,
   "metadata": {},
   "outputs": [],
   "source": []
  }
 ],
 "metadata": {
  "kernelspec": {
   "display_name": "Python 3",
   "language": "python",
   "name": "python3"
  },
  "language_info": {
   "codemirror_mode": {
    "name": "ipython",
    "version": 3
   },
   "file_extension": ".py",
   "mimetype": "text/x-python",
   "name": "python",
   "nbconvert_exporter": "python",
   "pygments_lexer": "ipython3",
   "version": "3.7.0"
  }
 },
 "nbformat": 4,
 "nbformat_minor": 2
}
